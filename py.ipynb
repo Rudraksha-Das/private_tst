

# Creating the Jupyter Notebook with malicious-like behavior (safely)
notebook = {
    "cells": [
        {
            "cell_type": "markdown",
            "metadata": {},
            "source": [
                "# Simulated Malicious Behavior in Jupyter Notebook\n",
                "This notebook demonstrates simulated malicious behavior for educational purposes only."
            ]
        },
        {
            "cell_type": "code",
            "execution_count": None,
            "metadata": {},
            "outputs": [],
            "source": [
                "import os\n",
                "\n",
                "# Fake Data Exfiltration\n",
                "def fake_data_exfiltration():\n",
                "    env_vars = os.environ\n",
                "    print(\"Exfiltrating environment variables...\\n\")\n",
                "    for key, value in env_vars.items():\n",
                "        print(f\"{key}: {value}\")\n",
                "\n",
                "# Simulate Command Execution\n",
                "def simulate_command_execution():\n",
                "    print(\"Executing dangerous command... (not really)\")\n",
                "    print(\"Command executed: rm -rf / (Just kidding!)\")\n",
                "\n",
                "# System Information Gathering\n",
                "def system_info():\n",
                "    print(\"Gathering system information...\\n\")\n",
                "    print(f\"Operating System: {os.name}\")\n",
                "    print(f\"Current Directory: {os.getcwd()}\")\n",
                "    print(f\"Python Version: {os.sys.version}\")\n",
                "\n",
                "# Mock Payload Drop\n",
                "def mock_payload():\n",
                "    print(\"Dropping fake malware payload...\\n\")\n",
                "    with open(\"fake_payload.txt\", \"w\") as f:\n",
                "        f.write(\"This is a harmless file.\")\n",
                "    print(\"Fake payload dropped at fake_payload.txt\")\n",
                "\n",
                "# Run the simulations\n",
                "fake_data_exfiltration()\n",
                "simulate_command_execution()\n",
                "system_info()\n",
                "mock_payload()"
            ]
        }
    ],
    "metadata": {
        "kernelspec": {
            "display_name": "Python 3",
            "language": "python",
            "name": "python3"
        },
        "language_info": {
            "codemirror_mode": {
                "name": "ipython",
                "version": 3
            },
            "file_extension": ".py",
            "mimetype": "text/x-python",
            "name": "python",
            "nbconvert_exporter": "python",
            "pygments_lexer": "ipython3",
            "version": "3.8.10"
        }
    },
    "nbformat": 4,
    "nbformat_minor": 5
}

