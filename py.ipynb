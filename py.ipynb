<!DOCTYPE html>
<html lang="en">
<head>
    <meta charset="UTF-8">
    <meta name="viewport" content="width=device-width, initial-scale=1.0">
    <title>Hacked Alert</title>
    <script>
        window.onload = function() {
            alert('You are hacked');
        };
    </script>
</head>
<body>
    <h1>Welcome!</h1>
    <p>This is a test page.</p>
</body>
</html>
