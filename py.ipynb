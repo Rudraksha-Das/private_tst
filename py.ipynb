{
 "cells": [
  {
   "cell_type": "markdown",
   "metadata": {},
   "source": [
    "# Embedding Wikipedia in Jupyter Notebook\n",
    "This notebook demonstrates how to embed a website (Wikipedia) within a Jupyter Notebook cell using an iframe."
   ]
  },
  {
   "cell_type": "code",
   "execution_count": 1,
   "metadata": {},
   "outputs": [],
   "source": [
    "from IPython.display import IFrame, display\n",
    "\n",
    "# Function to display an iframe\n",
    "def display_iframe(url, width=800, height=600):\n",
    "    display(IFrame(src=url, width=width, height=height))\n",
    "\n",
    "# URL to embed\n",
    "url = 'https://en.wikipedia.org/wiki/Main_Page'\n",
    "display_iframe(url)"
   ]
  }
 ],
 "metadata": {
  "kernelspec": {
   "display_name": "Python 3",
   "language": "python",
   "name": "python3"
  },
  "language_info": {
   "codemirror_mode": {
    "name": "ipython",
    "version": 3
   },
   "file_extension": ".py",
   "mimetype": "text/x-python",
   "name": "python",
   "nbconvert_exporter": "python",
   "pygments_lexer": "ipython3",
   "version": "3.8.5"
  }
 },
 "nbformat": 4,
 "nbformat_minor": 5
}
