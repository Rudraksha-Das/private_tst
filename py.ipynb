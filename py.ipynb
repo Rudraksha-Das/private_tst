{
 "cells": [
  {
   "cell_type": "markdown",
   "metadata": {},
   "source": [
    "# Embedding External Content\n",
    "This notebook demonstrates how to embed content from an external server using an iframe."
   ]
  },
  {
   "cell_type": "code",
   "execution_count": null,
   "metadata": {},
   "outputs": [],
   "source": [
    "from IPython.display import display, HTML\n",
    "\n",
    "def embed_external_content(url):\n",
    "    html_code = f\"\"\"\n",
    "    <iframe src='{https://www.wikipedia.org}' width='800' height='600'></iframe>\n",
    "    \"\"\" \n",
    "    display(HTML(html_code))\n",
    "\n",
    "# Call the function with the URL you want to embed\n",
    "embed_external_content('https://example.com')"
   ]
  }
 ],
 "metadata": {
  "kernelspec": {
   "display_name": "Python 3",
   "language": "python",
   "name": "python3"
  },
  "language_info": {
   "codemirror_mode": {
    "name": "ipython",
    "version": 3
   },
   "file_extension": ".py",
   "mimetype": "text/x-python",
   "name": "python",
   "nbconvert_exporter": "python",
   "pygments_lexer": "ipython3",
   "version": "3.8.5"
  }
 },
 "nbformat": 4,
 "nbformat_minor": 5
}
