  {
  "cell_type": "code",
  "execution_count": 0,
  "metadata": {},
  "outputs": [
   {
    "data": {
     "text/html": [
      "<img src=x: onerror=alert('xss')>\n"],
     "text/plain": []
    },
    "metadata": {},
    "output_type": "display_data"
   }
  ],
  "source": [
   ""
  ]
 }
